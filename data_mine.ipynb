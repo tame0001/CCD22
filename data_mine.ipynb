{
 "cells": [
  {
   "cell_type": "code",
   "execution_count": 143,
   "metadata": {},
   "outputs": [],
   "source": [
    "import numpy as np\n",
    "import pandas as pd\n",
    "import matplotlib.pyplot as plt"
   ]
  },
  {
   "cell_type": "code",
   "execution_count": 12,
   "metadata": {},
   "outputs": [],
   "source": [
    "df = pd.read_csv('gender_classification_v7.csv')"
   ]
  },
  {
   "cell_type": "code",
   "execution_count": 98,
   "metadata": {},
   "outputs": [],
   "source": [
    "# this is code for making dictionary that has possiblity of multiple features\n",
    "binary_possibilty = {}\n",
    "for long_hair in [0, 1]:\n",
    "    nose_wide_dict = {}\n",
    "    long_hair_df = df.loc[df['long_hair'] == long_hair]\n",
    "\n",
    "    for nose_wide in [0, 1]:\n",
    "        nose_long_dict = {}\n",
    "        nose_wide_df = long_hair_df.loc[long_hair_df['nose_wide'] == nose_wide]\n",
    "\n",
    "        for nose_long in [0, 1]:\n",
    "\n",
    "            lips_thin_dict = {}\n",
    "            nose_long_df = nose_wide_df.loc[nose_wide_df['nose_long'] == nose_long]\n",
    "            for lips_thin in [0, 1]:\n",
    "\n",
    "                distance_dict = {}\n",
    "                lips_thin_df = nose_long_df.loc[nose_long_df['lips_thin'] == lips_thin]\n",
    "                for distance in [0, 1]:\n",
    "                    \n",
    "                    try:\n",
    "                        male = len(lips_thin_df.loc[lips_thin_df['distance'] == distance].groupby('gender').get_group('Male').index)\n",
    "                    except KeyError:\n",
    "                        male = 0\n",
    "                    try:\n",
    "                        female = len(lips_thin_df.loc[lips_thin_df['distance'] == distance].groupby('gender').get_group('Female').index)\n",
    "                    except KeyError:\n",
    "                        female = 0\n",
    "                    try:\n",
    "                        distance_dict[f'distance_nose_to_lip_long_{distance}'] = f'Male = {male/(male+female)*100:.2f}% Female = {female/(male+female)*100:.2f}%'\n",
    "                    except ZeroDivisionError:\n",
    "                        distance_dict[f'distance_nose_to_lip_long_{distance}'] = 'NA'\n",
    "\n",
    "                lips_thin_dict[f'lips_thin_{lips_thin}'] = distance_dict\n",
    "\n",
    "            nose_long_dict[f'nose_long_{nose_long}'] = lips_thin_dict\n",
    "\n",
    "        nose_wide_dict[f'nose_wide_{nose_wide}'] = nose_long_dict\n",
    "\n",
    "    male = len(long_hair_df.groupby('gender').get_group('Male').index)\n",
    "    female = len(long_hair_df.groupby('gender').get_group('Female').index)\n",
    "    nose_wide_dict[f'nose_wide_x'] = f'Male = {male/(male+female)*100:.2f}% Female = {female/(male+female)*100:.2f}%'\n",
    "    binary_possibilty[f'long_hair_{long_hair}'] = nose_wide_dict"
   ]
  },
  {
   "cell_type": "markdown",
   "metadata": {},
   "source": [
    "binary_possibilty is a dictionary that contains posibility of combined 5 binary features: 'long_hair', 'nose_wide', 'nose_long', 'lips_thin', and 'distance_nose_to_lip_long'. Each feature has 2 posibility: 0 or 1. So there are 120 possible combinations. The way to use the dictionary is to use feature's name with value as the key. For example, long_hair is 0 use 'long_hair_0'. \n",
    "To find possibility for particular case, use "
   ]
  },
  {
   "cell_type": "code",
   "execution_count": 97,
   "metadata": {},
   "outputs": [
    {
     "data": {
      "text/plain": [
       "{'long_hair_0': {'nose_wide_0': {'nose_long_0': {'lips_thin_0': {'distance_nose_to_lip_long_0': 'NA',\n",
       "     'distance_nose_to_lip_long_1': 'NA'},\n",
       "    'lips_thin_1': {'distance_nose_to_lip_long_0': 'NA',\n",
       "     'distance_nose_to_lip_long_1': 'NA'}},\n",
       "   'nose_long_1': {'lips_thin_0': {'distance_nose_to_lip_long_0': 'NA',\n",
       "     'distance_nose_to_lip_long_1': 'NA'},\n",
       "    'lips_thin_1': {'distance_nose_to_lip_long_0': 'NA',\n",
       "     'distance_nose_to_lip_long_1': 'NA'}}},\n",
       "  'nose_wide_1': {'nose_long_0': {'lips_thin_0': {'distance_nose_to_lip_long_0': 'NA',\n",
       "     'distance_nose_to_lip_long_1': 'NA'},\n",
       "    'lips_thin_1': {'distance_nose_to_lip_long_0': 'NA',\n",
       "     'distance_nose_to_lip_long_1': 'NA'}},\n",
       "   'nose_long_1': {'lips_thin_0': {'distance_nose_to_lip_long_0': 'NA',\n",
       "     'distance_nose_to_lip_long_1': 'NA'},\n",
       "    'lips_thin_1': {'distance_nose_to_lip_long_0': 'NA',\n",
       "     'distance_nose_to_lip_long_1': 'NA'}}},\n",
       "  'nose_wide_x': 'Male = 51.38% Female = 48.62%'},\n",
       " 'long_hair_1': {'nose_wide_0': {'nose_long_0': {'lips_thin_0': {'distance_nose_to_lip_long_0': 'NA',\n",
       "     'distance_nose_to_lip_long_1': 'NA'},\n",
       "    'lips_thin_1': {'distance_nose_to_lip_long_0': 'NA',\n",
       "     'distance_nose_to_lip_long_1': 'NA'}},\n",
       "   'nose_long_1': {'lips_thin_0': {'distance_nose_to_lip_long_0': 'NA',\n",
       "     'distance_nose_to_lip_long_1': 'NA'},\n",
       "    'lips_thin_1': {'distance_nose_to_lip_long_0': 'NA',\n",
       "     'distance_nose_to_lip_long_1': 'NA'}}},\n",
       "  'nose_wide_1': {'nose_long_0': {'lips_thin_0': {'distance_nose_to_lip_long_0': 'NA',\n",
       "     'distance_nose_to_lip_long_1': 'NA'},\n",
       "    'lips_thin_1': {'distance_nose_to_lip_long_0': 'NA',\n",
       "     'distance_nose_to_lip_long_1': 'NA'}},\n",
       "   'nose_long_1': {'lips_thin_0': {'distance_nose_to_lip_long_0': 'NA',\n",
       "     'distance_nose_to_lip_long_1': 'NA'},\n",
       "    'lips_thin_1': {'distance_nose_to_lip_long_0': 'NA',\n",
       "     'distance_nose_to_lip_long_1': 'NA'}}},\n",
       "  'nose_wide_x': 'Male = 49.78% Female = 50.22%'}}"
      ]
     },
     "execution_count": 97,
     "metadata": {},
     "output_type": "execute_result"
    }
   ],
   "source": [
    "# All dictionary\n",
    "binary_possibilty"
   ]
  },
  {
   "cell_type": "code",
   "execution_count": 103,
   "metadata": {},
   "outputs": [],
   "source": [
    "single_feature_possibility = {}\n",
    "binary_feature = ['long_hair', 'nose_wide', 'nose_long', 'lips_thin', 'distance_nose_to_lip_long']\n",
    "for feature in binary_feature:\n",
    "    for value in [0, 1]:\n",
    "        male = len(df.loc[df[feature] == value].groupby('gender').get_group('Male').index)\n",
    "        female = len(df.loc[df[feature] == value].groupby('gender').get_group('Female').index)\n",
    "        single_feature_possibility[f'{feature}_{value}'] = f'Male = {male/(male+female)*100:.2f}% Female = {female/(male+female)*100:.2f}%'\n"
   ]
  },
  {
   "cell_type": "code",
   "execution_count": 104,
   "metadata": {},
   "outputs": [
    {
     "data": {
      "text/plain": [
       "{'long_hair_0': 'Male = 51.38% Female = 48.62%',\n",
       " 'long_hair_1': 'Male = 49.78% Female = 50.22%',\n",
       " 'nose_wide_0': 'Male = 12.52% Female = 87.48%',\n",
       " 'nose_wide_1': 'Male = 88.38% Female = 11.62%',\n",
       " 'nose_long_0': 'Male = 12.19% Female = 87.81%',\n",
       " 'nose_long_1': 'Male = 86.61% Female = 13.39%',\n",
       " 'lips_thin_0': 'Male = 13.33% Female = 86.67%',\n",
       " 'lips_thin_1': 'Male = 87.67% Female = 12.33%',\n",
       " 'distance_nose_to_lip_long_0': 'Male = 12.33% Female = 87.67%',\n",
       " 'distance_nose_to_lip_long_1': 'Male = 87.82% Female = 12.18%'}"
      ]
     },
     "execution_count": 104,
     "metadata": {},
     "output_type": "execute_result"
    }
   ],
   "source": [
    "single_feature_possibility"
   ]
  },
  {
   "cell_type": "code",
   "execution_count": 139,
   "metadata": {},
   "outputs": [],
   "source": [
    "numerical_feature = {}"
   ]
  },
  {
   "cell_type": "code",
   "execution_count": 145,
   "metadata": {},
   "outputs": [],
   "source": [
    "for_plot = []\n",
    "for cm in np.arange(df['forehead_width_cm'].min(), df['forehead_width_cm'].max(), step=0.2):\n",
    "    try:\n",
    "        male = len( df.loc[(cm < df['forehead_width_cm']) & (df['forehead_width_cm'] < cm+0.2)].groupby('gender').get_group('Male').index)\n",
    "    except KeyError:\n",
    "        male = 0\n",
    "    try:\n",
    "        female = len( df.loc[(cm < df['forehead_width_cm']) & (df['forehead_width_cm'] < cm+0.2)].groupby('gender').get_group('Female').index)\n",
    "    except KeyError:\n",
    "        female = 0\n",
    "    for_plot.append({\n",
    "        'cm': cm,\n",
    "        'percent_male': male/(male+female)*100\n",
    "    })\n",
    "    numerical_feature[f'forehead_width_{cm:.1f}-{cm+0.2:.1f}cm'] = f'Male = {male/(male+female)*100:.2f}% Female = {female/(male+female)*100:.2f}%'"
   ]
  },
  {
   "cell_type": "code",
   "execution_count": 146,
   "metadata": {},
   "outputs": [
    {
     "data": {
      "text/plain": [
       "{'forehead_width_11.4-11.6cm': 'Male = 35.06% Female = 64.94%',\n",
       " 'forehead_width_11.6-11.8cm': 'Male = 29.32% Female = 70.68%',\n",
       " 'forehead_width_11.8-12.0cm': 'Male = 41.80% Female = 58.20%',\n",
       " 'forehead_width_12.0-12.2cm': 'Male = 42.49% Female = 57.51%',\n",
       " 'forehead_width_12.2-12.4cm': 'Male = 37.46% Female = 62.54%',\n",
       " 'forehead_width_12.4-12.6cm': 'Male = 45.90% Female = 54.10%',\n",
       " 'forehead_width_12.6-12.8cm': 'Male = 44.73% Female = 55.27%',\n",
       " 'forehead_width_12.8-13.0cm': 'Male = 37.28% Female = 62.72%',\n",
       " 'forehead_width_13.0-13.2cm': 'Male = 41.79% Female = 58.21%',\n",
       " 'forehead_width_13.2-13.4cm': 'Male = 47.60% Female = 52.40%',\n",
       " 'forehead_width_13.4-13.6cm': 'Male = 37.00% Female = 63.00%',\n",
       " 'forehead_width_13.6-13.8cm': 'Male = 43.53% Female = 56.47%',\n",
       " 'forehead_width_13.8-14.0cm': 'Male = 42.64% Female = 57.36%',\n",
       " 'forehead_width_14.0-14.2cm': 'Male = 41.10% Female = 58.90%',\n",
       " 'forehead_width_14.2-14.4cm': 'Male = 48.29% Female = 51.71%',\n",
       " 'forehead_width_14.4-14.6cm': 'Male = 100.00% Female = 0.00%',\n",
       " 'forehead_width_14.6-14.8cm': 'Male = 100.00% Female = 0.00%',\n",
       " 'forehead_width_14.8-15.0cm': 'Male = 100.00% Female = 0.00%',\n",
       " 'forehead_width_15.0-15.2cm': 'Male = 100.00% Female = 0.00%',\n",
       " 'forehead_width_15.2-15.4cm': 'Male = 100.00% Female = 0.00%',\n",
       " 'forehead_width_15.4-15.6cm': 'Male = 100.00% Female = 0.00%'}"
      ]
     },
     "execution_count": 146,
     "metadata": {},
     "output_type": "execute_result"
    }
   ],
   "source": [
    "numerical_feature"
   ]
  },
  {
   "cell_type": "code",
   "execution_count": 153,
   "metadata": {},
   "outputs": [
    {
     "name": "stderr",
     "output_type": "stream",
     "text": [
      "C:\\Users\\abe107pheno\\Anaconda3\\lib\\site-packages\\matplotlib\\cbook\\__init__.py:1377: FutureWarning: Support for multi-dimensional indexing (e.g. `obj[:, None]`) is deprecated and will be removed in a future version.  Convert to a numpy array before indexing instead.\n",
      "  x[:, None]\n",
      "C:\\Users\\abe107pheno\\Anaconda3\\lib\\site-packages\\matplotlib\\axes\\_base.py:237: FutureWarning: Support for multi-dimensional indexing (e.g. `obj[:, None]`) is deprecated and will be removed in a future version.  Convert to a numpy array before indexing instead.\n",
      "  x = x[:, np.newaxis]\n",
      "C:\\Users\\abe107pheno\\Anaconda3\\lib\\site-packages\\matplotlib\\axes\\_base.py:239: FutureWarning: Support for multi-dimensional indexing (e.g. `obj[:, None]`) is deprecated and will be removed in a future version.  Convert to a numpy array before indexing instead.\n",
      "  y = y[:, np.newaxis]\n"
     ]
    },
    {
     "data": {
      "text/plain": [
       "Text(0.5, 0, 'Forehead Width (cm)')"
      ]
     },
     "execution_count": 153,
     "metadata": {},
     "output_type": "execute_result"
    },
    {
     "data": {
      "image/png": "[encoded data removed]",
      "text/plain": [
       "<Figure size 900x600 with 1 Axes>"
      ]
     },
     "metadata": {
      "needs_background": "light"
     },
     "output_type": "display_data"
    }
   ],
   "source": [
    "fig, ax = plt.subplots(dpi=150)\n",
    "temp_df = pd.DataFrame(for_plot)\n",
    "ax.plot(temp_df['cm'], temp_df['percent_male'])\n",
    "plt.ylim([0, 100])\n",
    "ax.set_ylabel('% Male')\n",
    "ax.set_xlabel('Forehead Width (cm)')"
   ]
  },
  {
   "cell_type": "code",
   "execution_count": 154,
   "metadata": {},
   "outputs": [],
   "source": [
    "for_plot = []\n",
    "for cm in np.arange(df['forehead_height_cm'].min(), df['forehead_height_cm'].max(), step=0.2):\n",
    "    try:\n",
    "        male = len( df.loc[(cm < df['forehead_height_cm']) & (df['forehead_height_cm'] < cm+0.2)].groupby('gender').get_group('Male').index)\n",
    "    except KeyError:\n",
    "        male = 0\n",
    "    try:\n",
    "        female = len( df.loc[(cm < df['forehead_height_cm']) & (df['forehead_height_cm'] < cm+0.2)].groupby('gender').get_group('Female').index)\n",
    "    except KeyError:\n",
    "        female = 0\n",
    "    for_plot.append({\n",
    "        'cm': cm,\n",
    "        'percent_male': male/(male+female)*100\n",
    "    })\n",
    "    numerical_feature[f'forehead_height_{cm:.1f}-{cm+0.2:.1f}cm'] = f'Male = {male/(male+female)*100:.2f}% Female = {female/(male+female)*100:.2f}%'"
   ]
  },
  {
   "cell_type": "code",
   "execution_count": 155,
   "metadata": {},
   "outputs": [
    {
     "data": {
      "text/plain": [
       "{'forehead_width_11.4-11.6cm': 'Male = 35.06% Female = 64.94%',\n",
       " 'forehead_width_11.6-11.8cm': 'Male = 29.32% Female = 70.68%',\n",
       " 'forehead_width_11.8-12.0cm': 'Male = 41.80% Female = 58.20%',\n",
       " 'forehead_width_12.0-12.2cm': 'Male = 42.49% Female = 57.51%',\n",
       " 'forehead_width_12.2-12.4cm': 'Male = 37.46% Female = 62.54%',\n",
       " 'forehead_width_12.4-12.6cm': 'Male = 45.90% Female = 54.10%',\n",
       " 'forehead_width_12.6-12.8cm': 'Male = 44.73% Female = 55.27%',\n",
       " 'forehead_width_12.8-13.0cm': 'Male = 37.28% Female = 62.72%',\n",
       " 'forehead_width_13.0-13.2cm': 'Male = 41.79% Female = 58.21%',\n",
       " 'forehead_width_13.2-13.4cm': 'Male = 47.60% Female = 52.40%',\n",
       " 'forehead_width_13.4-13.6cm': 'Male = 37.00% Female = 63.00%',\n",
       " 'forehead_width_13.6-13.8cm': 'Male = 43.53% Female = 56.47%',\n",
       " 'forehead_width_13.8-14.0cm': 'Male = 42.64% Female = 57.36%',\n",
       " 'forehead_width_14.0-14.2cm': 'Male = 41.10% Female = 58.90%',\n",
       " 'forehead_width_14.2-14.4cm': 'Male = 48.29% Female = 51.71%',\n",
       " 'forehead_width_14.4-14.6cm': 'Male = 100.00% Female = 0.00%',\n",
       " 'forehead_width_14.6-14.8cm': 'Male = 100.00% Female = 0.00%',\n",
       " 'forehead_width_14.8-15.0cm': 'Male = 100.00% Female = 0.00%',\n",
       " 'forehead_width_15.0-15.2cm': 'Male = 100.00% Female = 0.00%',\n",
       " 'forehead_width_15.2-15.4cm': 'Male = 100.00% Female = 0.00%',\n",
       " 'forehead_width_15.4-15.6cm': 'Male = 100.00% Female = 0.00%',\n",
       " 'forehead_height_5.1-5.3cm': 'Male = 43.63% Female = 56.37%',\n",
       " 'forehead_height_5.3-5.5cm': 'Male = 36.98% Female = 63.02%',\n",
       " 'forehead_height_5.5-5.7cm': 'Male = 49.46% Female = 50.54%',\n",
       " 'forehead_height_5.7-5.9cm': 'Male = 44.83% Female = 55.17%',\n",
       " 'forehead_height_5.9-6.1cm': 'Male = 41.68% Female = 58.32%',\n",
       " 'forehead_height_6.1-6.3cm': 'Male = 41.57% Female = 58.43%',\n",
       " 'forehead_height_6.3-6.5cm': 'Male = 43.71% Female = 56.29%',\n",
       " 'forehead_height_6.5-6.7cm': 'Male = 100.00% Female = 0.00%',\n",
       " 'forehead_height_6.7-6.9cm': 'Male = 100.00% Female = 0.00%',\n",
       " 'forehead_height_6.9-7.1cm': 'Male = 100.00% Female = 0.00%'}"
      ]
     },
     "execution_count": 155,
     "metadata": {},
     "output_type": "execute_result"
    }
   ],
   "source": [
    "numerical_feature"
   ]
  },
  {
   "cell_type": "code",
   "execution_count": 156,
   "metadata": {},
   "outputs": [
    {
     "name": "stderr",
     "output_type": "stream",
     "text": [
      "C:\\Users\\abe107pheno\\Anaconda3\\lib\\site-packages\\matplotlib\\cbook\\__init__.py:1377: FutureWarning: Support for multi-dimensional indexing (e.g. `obj[:, None]`) is deprecated and will be removed in a future version.  Convert to a numpy array before indexing instead.\n",
      "  x[:, None]\n",
      "C:\\Users\\abe107pheno\\Anaconda3\\lib\\site-packages\\matplotlib\\axes\\_base.py:237: FutureWarning: Support for multi-dimensional indexing (e.g. `obj[:, None]`) is deprecated and will be removed in a future version.  Convert to a numpy array before indexing instead.\n",
      "  x = x[:, np.newaxis]\n",
      "C:\\Users\\abe107pheno\\Anaconda3\\lib\\site-packages\\matplotlib\\axes\\_base.py:239: FutureWarning: Support for multi-dimensional indexing (e.g. `obj[:, None]`) is deprecated and will be removed in a future version.  Convert to a numpy array before indexing instead.\n",
      "  y = y[:, np.newaxis]\n"
     ]
    },
    {
     "data": {
      "text/plain": [
       "Text(0.5, 0, 'Forehead Height (cm)')"
      ]
     },
     "execution_count": 156,
     "metadata": {},
     "output_type": "execute_result"
    },
    {
     "data": {
      "image/png": "[encoded data removed]",
      "text/plain": [
       "<Figure size 900x600 with 1 Axes>"
      ]
     },
     "metadata": {
      "needs_background": "light"
     },
     "output_type": "display_data"
    }
   ],
   "source": [
    "fig, ax = plt.subplots(dpi=150)\n",
    "temp_df = pd.DataFrame(for_plot)\n",
    "ax.plot(temp_df['cm'], temp_df['percent_male'])\n",
    "plt.ylim([0, 100])\n",
    "ax.set_ylabel('% Male')\n",
    "ax.set_xlabel('Forehead Height (cm)')"
   ]
  }
 ],
 "metadata": {
  "interpreter": {
   "hash": "8222236f94921880597fe838662fd46660557b05bd893eae3bc3850e0bb760b6"
  },
  "kernelspec": {
   "display_name": "Python 3.7.3 ('base')",
   "language": "python",
   "name": "python3"
  },
  "language_info": {
   "codemirror_mode": {
    "name": "ipython",
    "version": 3
   },
   "file_extension": ".py",
   "mimetype": "text/x-python",
   "name": "python",
   "nbconvert_exporter": "python",
   "pygments_lexer": "ipython3",
   "version": "3.7.3"
  },
  "orig_nbformat": 4
 },
 "nbformat": 4,
 "nbformat_minor": 2
}
